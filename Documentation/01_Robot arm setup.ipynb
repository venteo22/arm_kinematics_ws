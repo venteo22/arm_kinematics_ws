{
 "metadata": {
  "language_info": {
   "codemirror_mode": {
    "name": "ipython",
    "version": 3
   },
   "file_extension": ".py",
   "mimetype": "text/x-python",
   "name": "python",
   "nbconvert_exporter": "python",
   "pygments_lexer": "ipython3",
   "version": 3
  },
  "orig_nbformat": 2
 },
 "nbformat": 4,
 "nbformat_minor": 2,
 "cells": [
  {
   "source": [
    "# Control any Robotic Arm with ROS\n",
    " If you wanted to develop a robot, you had to build a complete system: a physical device, of course, but also the control systems, interface, and inspection tools required to get the robot up and running as a test platform.\n",
    "\n",
    "We have to:\n",
    "- Create the Robot arm model\n",
    "- Import the Robot arm model in ROS\n",
    "- Control the kinematics "
   ],
   "cell_type": "markdown",
   "metadata": {}
  },
  {
   "source": [
    "### Install some packages\n",
    "\n",
    "First of all we need to install:\n",
    "- urdf tutorial package\n",
    "- the moveit package.\n",
    "\n",
    "The simplest way to install MoveIt is from pre-built binaries (Debian):"
   ],
   "cell_type": "markdown",
   "metadata": {}
  },
  {
   "cell_type": "code",
   "execution_count": null,
   "metadata": {},
   "outputs": [],
   "source": [
    "rosdep update\n",
    "sudo apt-get update\n",
    "sudo apt-get install python3\n",
    "sudo apt-get install ros-melodic-urdf-tutorial\n",
    "sudo apt install ros-melodic-moveit"
   ]
  },
  {
   "source": [
    "#### Documentation\n",
    "Interesting links are:\n",
    "- ROS Tutorial: Create an arm on a mobile robot using Moveit!: https://www.youtube.com/watch?v=l4dtSRvlAjg\n",
    "- Control any Robotic Arm with ROS: https://blog.usejournal.com/control-any-robotic-arm-with-ros-b10a3115306c\n",
    "- Udemy course: https://www.udemy.com/course/robotics-with-ros-build-robotic-arm-in-gazebo-and-moveit/\n",
    "- Udemy course repository: https://github.com/noshluk2/4_Robotic-Arm-Manupilation-using-Gazbo-and-Moveit\n",
    "- How to control a robot arm with the Arduino and ROS: https://maker.pro/arduino/tutorial/how-to-control-a-robot-arm-with-ros-and-arduino\n",
    "- Moveit tutorials: http://docs.ros.org/en/melodic/api/moveit_tutorials/html/index.html\n",
    "- Moveit Setup Assistant Tutorial: http://docs.ros.org/en/melodic/api/moveit_tutorials/html/doc/setup_assistant/setup_assistant_tutorial.html\n",
    "\n",
    "Public repositories in:\n",
    "- https://bitbucket.org/theconstructcore/\n",
    "- https://bitbucket.org/theconstructcore/my-robotic-manipulator/src/master/\n",
    "- https://bitbucket.org/theconstructcore/two-wheeled-robot-motion-planning/src/master/\n"
   ],
   "cell_type": "markdown",
   "metadata": {}
  },
  {
   "source": [
    "## 1.Create the Robot arm model\n",
    "\n",
    "First of all, we create a \"arm_kinematics_ws\" where we will install the packages:\n",
    "- robot_description package: where the URDF model of robotic arm is located. This URDF file is created from scratch or obtained from a SolidWorks plugin\n",
    "- robot kinematics control package: the moveit_config package\n",
    "\n",
    "Create a new repository \"arm_kinematics_ws\" in your github.\n",
    "\n",
    "Syncronise the repository in your local computer.\n",
    "\n",
    "Create the src folder and compile the workspace.\n",
    "\n",
    "We can create an arm model in three different ways:\n",
    " - From scratch\n",
    " - From SolidWorks\n",
    " - From an existing package in ROS"
   ],
   "cell_type": "markdown",
   "metadata": {}
  },
  {
   "source": [
    "## Design a 3D simple robot arm model from scratch\n",
    "\n",
    "ROS and MoveIt require our robotic arm model files to be in URDF. The Unified Robotic Description Format (URDF) is an XML file format used in ROS to describe all elements of a robot. It lists all the kinematic properties of the links and joints in a chain from base to tip. And we are going to visualize each step on RViz. ROS also accepts .xacro files which are very similar to urdf and are easier to write.\n",
    "\n",
    "We can make use of any robot arm design files available on the internet in CAD neutral format (such as STL). Alternatively, one can design it from scratch using any of the popular CAD software packages such as SolidWorks.\n",
    "\n",
    "For any robotic arm we will have a number of frames that are attach to a robotic arm. After defining the joints, we need to known an important concept, Parent and Child. The different joints are connected between links. The first joint will be the Parent, and the second joint that is connected to this one is the Child. The one which gives access to the origin is the Parent. \n",
    "\n",
    "First of all you need to create a new package for robot description. The package is called \"custom_robotic_arm\". "
   ],
   "cell_type": "markdown",
   "metadata": {}
  },
  {
   "cell_type": "code",
   "execution_count": null,
   "metadata": {},
   "outputs": [],
   "source": [
    "catkin_create_pkg custom_robotic_arm rospy std_msgs"
   ]
  },
  {
   "source": [
    "Using Visual Studio Code, we are going to create \"urdf\" and \"launch\" folders inside the new created package. \n",
    "In the \"urdf\" folder, we create a file named \"simple_arm.urdf\", where we are going to describe all the elements of the robot. Now, we program it and we start with the version of excelence and defining the name of the robot. Below, is the code with the things mentioned above and one fixed link and its joint, and also another one with a continuous joint. \n",
    "\n"
   ],
   "cell_type": "markdown",
   "metadata": {}
  },
  {
   "cell_type": "code",
   "execution_count": null,
   "metadata": {},
   "outputs": [],
   "source": [
    "<!-- Defining the version and the name of the robot -->\n",
    "<?xml version=\"1.0\"?>\n",
    "<robot name=\"luqman_bot\">\n",
    "<!-- First connection to the base link-->\n",
    "  <link name=\"world\"/>\n",
    "    <link name=\"base_link\">\n",
    "        <visual>\n",
    "        <!-- Geometry and material of the baselink -->\n",
    "            <geometry>\n",
    "                <cylinder length=\"0.05\" radius=\"0.1\"/>\n",
    "            </geometry>\n",
    "            <material name=\"silver\">\n",
    "                <color rgba=\"0.75 0.75 0.75 1\"/>\n",
    "            </material>\n",
    "            <!-- Location of the base link -->\n",
    "            <origin rpy=\"0 0 0\" xyz=\"0 0 0.025\"/>\n",
    "        </visual>\n",
    "    <!-- Definition of the collision properties -->\n",
    "    <collision>\n",
    "        <geometry>\n",
    "            <cylinder length=\"0.05\" radius=\"0.1\"/>\n",
    "        </geometry>\n",
    "            <origin rpy=\"0 0 0\" xyz=\"0 0 0.025\"/>\n",
    "    </collision>\n",
    "    <!-- Definition of the intertial properties -->\n",
    "    <!-- It defines the properties that will act if there is a collision -->\n",
    "    <inertial>\n",
    "        <mass value=\"1.0\"/>\n",
    "        <origin rpy=\"0 0 0\" xyz=\"0 0 0.025\"/>\n",
    "        <inertia ixx=\"0.0027\" iyy=\"0.0027\" izz=\"0.005\" ixy=\"0\" ixz=\"0\" iyz=\"0\"/>\n",
    "    </inertial>\n",
    "    </link>\n",
    "<!-- Definition of the joint for the link created -->\n",
    "<!-- This is a fixed link, it is not going to move -->\n",
    "<!-- Defining the connection between the world and the base link, with a fixed joint -->\n",
    "  <joint name=\"fixed\" type=\"fixed\">\n",
    "    <parent link=\"world\"/>\n",
    "    <child link=\"base_link\"/>\n",
    "  </joint>\n",
    "\n",
    "<!-- New link connected to the base one, with a joing that will move -->\n",
    "<!-- Definition of the geometry and the mechanical properties -->\n",
    "  <link name=\"One\">\n",
    "    <visual>\n",
    "        <geometry>\n",
    "            <cylinder length=\"0.5\" radius=\"0.05\"/>\n",
    "        </geometry>\n",
    "        <material name=\"silver\">\n",
    "            <color rgba=\"0.75 0.75 0.75 1\"/>\n",
    "        </material>\n",
    "        <origin rpy=\"0 0 0\" xyz=\"0 0 0.25\"/>\n",
    "    </visual>\n",
    "    <collision>\n",
    "        <geometry>\n",
    "            <cylinder length=\"0.5\" radius=\"0.05\"/>\n",
    "        </geometry>\n",
    "        <origin rpy=\"0 0 0\" xyz=\"0 0 0.25\"/>\n",
    "    </collision>\n",
    "    <inertial>\n",
    "        <mass value=\"1.0\"/>\n",
    "        <origin rpy=\"0 0 0\" xyz=\"0 0 0.25\"/>\n",
    "        <inertia ixx=\"0.02146\" iyy=\"0.02146\" izz=\"0.00125\"\n",
    "        ixy=\"0\" ixz=\"0\" iyz=\"0\"/>\n",
    "    </inertial>\n",
    "  </link>\n",
    "  <!-- Defining a continuous joint, which can rotate  -->\n",
    "  <!-- In this case, we have to define the axis and origin -->\n",
    "  <joint name=\"One_joint\" type=\"continuous\">\n",
    "    <axis xyz=\"0 0 1\"/>\n",
    "    <parent link=\"base_link\"/>\n",
    "    <child link=\"One\"/>\n",
    "    <origin rpy=\"0 0 0\" xyz=\"0.0 0.0 0.05\"/>\n",
    "  </joint>"
   ]
  },
  {
   "source": [
    "We can repeat this step, as many times as links and joints we want our robot to have. In this case, as it is a simple arm, it is going to have four joints and links. \n",
    "To observe the evolution of the robot, we use RViz with the following command on the terminal.  "
   ],
   "cell_type": "markdown",
   "metadata": {}
  },
  {
   "cell_type": "code",
   "execution_count": null,
   "metadata": {},
   "outputs": [],
   "source": [
    "roslaunch urdf_tutorial display.launch model:='$(find custom_robotic_arm)/urdf/simple_arm.urdf'"
   ]
  },
  {
   "source": [
    "### Controller in Gazebo\n",
    "Once we have created the robotic arm model, we are going to build a controller to use it in Gazebo environment. On this step we are going to use, Joint State Publisher, that will publish the joints so the simulation is easier and we know the current position of the robot. And Gazebo Controller plugin, to control the robot movements. \n",
    "\n",
    "First of all, we need to create a launch file named \"arm_gazebo.launch\", that contains different nodes from different packages. We want this file to launch de Gazebo world and show our 3D robot model. "
   ],
   "cell_type": "markdown",
   "metadata": {}
  },
  {
   "cell_type": "code",
   "execution_count": null,
   "metadata": {},
   "outputs": [],
   "source": [
    "<launch>\n",
    "<!-- First we reload our model with an empty world on Gazebo -->\n",
    "    <param name=\"robot_description\" textfile=\"$(find custom_robotic_arm)/urdf/simple_arm.urdf\"/>\n",
    "    <include file=\"$(find gazebo_ros)/launch/empty_world.launch\" />\n",
    "    <node name=\"spawn_urdf\" pkg=\"gazebo_ros\" type=\"spawn_model\" args=\"-param robot_description -urdf -model luqman_bot\"    />\n",
    "    <rosparam file =\"$(find custom_robotic_arm)/config/controller.yaml\"/>\n",
    "    <node name= \"controller_spawner\" pkg= \"controller_manager\" type=\"spawner\" args=\"\n",
    "    arm_controller\"/>\n",
    "    <node name=\"robot_state_publisher\" pkg=\"robot_state_publisher\" type=\"robot_state_publisher\"/> \n",
    "</launch>"
   ]
  },
  {
   "source": [
    "However, we are going to have some problems. Any robot in Gazebo needs a proper control transmission. So, we need to create transmissions and actuators in the joints of the robot. We go back to the \"simple_arm.urdf\" file, and we will define the transmission and actuators for each joint.\n",
    "Here it is an example of a transmission for one joint. "
   ],
   "cell_type": "markdown",
   "metadata": {}
  },
  {
   "cell_type": "code",
   "execution_count": null,
   "metadata": {},
   "outputs": [],
   "source": [
    "<!-- We define the simple transmissions on the first joint -->\n",
    "<transmission name =\"Trans_1\">\n",
    "    <type>transmission_interface/SimpleTransmission</type>\n",
    "    <joint name=\"One_joint\">\n",
    "        <hardwareInterface>PositionJointInterface</hardwareInterface>\n",
    "    </joint>\n",
    "    <!-- Defining the actuator on the first joint, using position interface-->\n",
    "    <actuator name=\"Motor1\">\n",
    "        <hardwareInterface>PositionJointInterface</hardwareInterface>\n",
    "        <mechanicalReduction>1</mechanicalReduction>\n",
    "    </actuator>\n",
    "</transmission>"
   ]
  },
  {
   "source": [
    "For any robot we need a controller, so we need a Gazebo plugin that controls the transmission and actuations, and another one that publish states, defining all the joints. We come back to \"simple_arm.urdf\", and we write the following command. "
   ],
   "cell_type": "markdown",
   "metadata": {}
  },
  {
   "cell_type": "code",
   "execution_count": null,
   "metadata": {},
   "outputs": [],
   "source": [
    "<gazebo>\n",
    "<!-- Defining control package of Gazebo -->\n",
    "    <plugin name=\"control\" filename=\"libgazebo_ros_control.so\"/>\n",
    "</gazebo>\n",
    "<gazebo>\n",
    "<!-- Plugin that publish states -->\n",
    "<plugin name=\"joint_state_publisher\" filename=\"libgazebo_ros_joint_state_publisher.so\">\n",
    "        <jointName>One_joint, Two_joint, Three_joint, Four_joint</jointName>\n",
    "    </plugin>\n",
    "</gazebo>"
   ]
  },
  {
   "source": [
    "After that we need to create a controller. We will name the file \"controller.yaml\" and save it in a new folder named \"config\". This controller is a joint trajectory controller."
   ],
   "cell_type": "markdown",
   "metadata": {}
  },
  {
   "cell_type": "code",
   "execution_count": null,
   "metadata": {},
   "outputs": [],
   "source": [
    "arm_controller:\n",
    "  type: \"position_controllers/JointTrajectoryController\"\n",
    "  joints:\n",
    "    - One_joint\n",
    "    - Two_joint\n",
    "    - Three_joint\n",
    "    - Four_joint"
   ]
  },
  {
   "source": [
    "To observe if the robot looks fine, we will write the following command:"
   ],
   "cell_type": "markdown",
   "metadata": {}
  },
  {
   "cell_type": "code",
   "execution_count": null,
   "metadata": {},
   "outputs": [],
   "source": [
    "roslaunch custom_robotic_arm arm_gazebo.launch"
   ]
  },
  {
   "source": [
    "If we call \"rostopic list\", we will see a controller which provides as to control the simulation in Gazebo. \n",
    "\n",
    "(After applying the next command, run \"roscore\" to avoid some problems)\n",
    "\n",
    "On the topic list there is a arm controller command that will move the robot simulation. "
   ],
   "cell_type": "markdown",
   "metadata": {}
  },
  {
   "cell_type": "code",
   "execution_count": null,
   "metadata": {},
   "outputs": [],
   "source": [
    "rostopic pub /arm_controller/command trajectory_msgs/JointTrajectory '{joint_names:[\"One_joint\",\"Two_joint\",\"Three_joint,\"Four_joint\"],points:[{positions:[0.1,-0.5,0.5,0.75],time_from_start:[1,0] }]}'"
   ]
  },
  {
   "source": [
    "Depending on the values of positions, the movement will be different. "
   ],
   "cell_type": "markdown",
   "metadata": {}
  },
  {
   "source": [
    "In Gazebo we have seen real world simulation, in RViz we see what a robot sees. Thanks to the plugin of joint_state_publisher, that publish all the current state of the joints. First, we need to open rviz. Then on the 'Displays' bar, select \"base_link\" on 'Fixed Frame'. After that, click on the botton 'Add', and select 'RobotModel' (visualize the robot) and TF (to see the current state of each joint). "
   ],
   "cell_type": "markdown",
   "metadata": {}
  },
  {
   "source": [
    "### Controller for Real World Applications with Move-it\n",
    "\n",
    "To start the MoveIt Setup Assistant:"
   ],
   "cell_type": "markdown",
   "metadata": {}
  },
  {
   "cell_type": "code",
   "execution_count": null,
   "metadata": {},
   "outputs": [],
   "source": [
    "roslaunch moveit_setup_assistant setup_assistant.launch"
   ]
  },
  {
   "source": [
    "\n",
    "Follow the \"Moveit Setup Assistant\" Tutorial to create the moveit_config package for the panda robot arm\n",
    "\n",
    "http://docs.ros.org/en/melodic/api/moveit_tutorials/html/doc/setup_assistant/setup_assistant_tutorial.html\n",
    "\n",
    "You have now the panda_moveit_config package properly installed\n",
    "\n",
    "Carefully:\n",
    "- Choose the robot model created on the previous sections, \"simple_arm.urdf\".\n",
    "- Generate Collision Matrix\n",
    "- Add the links and joints \"Planning groups\"\n",
    "- Generate a new folder named \"moveit_arm\", next to the custom_robotic_arm folder. \n",
    "\n"
   ],
   "cell_type": "markdown",
   "metadata": {}
  },
  {
   "cell_type": "code",
   "execution_count": null,
   "metadata": {},
   "outputs": [],
   "source": [
    "roslaunch moveit_arm demo.launch"
   ]
  },
  {
   "source": [
    "You can make the robot do some random movements. On the section 'MotionPlanning', in the tab 'Planning', you can select a random goal state. You 'Plan' the movement, and then 'Execute'. Then, you see the robot start to move. \n",
    "\n",
    "Now we are going to make a synchronization between Moveit and Gazebo. Get that when we plan a movement in the robot, it does the same in the real world. "
   ],
   "cell_type": "markdown",
   "metadata": {}
  },
  {
   "source": [
    "We create a file \"controller.yaml\" on the 'config' folder. That will we the controller that we built in Gazebo configuration and that MoveIt can use it. "
   ],
   "cell_type": "markdown",
   "metadata": {}
  },
  {
   "cell_type": "code",
   "execution_count": null,
   "metadata": {},
   "outputs": [],
   "source": [
    "controller_manager_ns: /\n",
    "controller_list:\n",
    "  - name: arm_controller\n",
    "    action_ns: follow_joint_trajectory\n",
    "    type: FollowJointTrajectory\n",
    "    joints:\n",
    "      - One_joint\n",
    "      - Two_joint\n",
    "      - Three_joint\n",
    "      - Four_joint"
   ]
  },
  {
   "source": [
    "Now, we need to change the file \"luqman_bot_moveit_controller_manager.launch.xml\". It is going to use the controller in Gazebo and link it with the Moveit one. Thanks to that, when we move the robot in Moveit, it will move in Gazebo also. "
   ],
   "cell_type": "markdown",
   "metadata": {}
  },
  {
   "cell_type": "code",
   "execution_count": null,
   "metadata": {},
   "outputs": [],
   "source": [
    "<launch>\n",
    "    <param name =\"moveit_controller_manager\"\n",
    "    value=\"moveit_simple_controller_manager/MoveItSimpleControllerManager\"/>\n",
    "    <param name=\"controller_manager_name\" value=\"/\" />\n",
    "    <param name=\"use_controller_manager\" value=\"true\" />\n",
    "  \n",
    "    <rosparam file=\"$(find moveit_arm)/config/controller.yaml\" />\n",
    "\n",
    "</launch>"
   ]
  },
  {
   "source": [
    "FInally, we create a new file named \"Final.launch\". That control the robot on both simulations programs. "
   ],
   "cell_type": "markdown",
   "metadata": {}
  },
  {
   "cell_type": "code",
   "execution_count": null,
   "metadata": {},
   "outputs": [],
   "source": [
    "<launch>\n",
    "    <include file=\"$(find custom_robotic_arm)/launch/arm_gazebo.launch\" />\n",
    "    <include file=\"$(find moveit_arm)/launch/move_group.launch\" />\n",
    "    <include file=\"$(find moveit_arm)/launch/moveit_rviz.launch\" >\n",
    "        <arg name=\"config\" value=\"True\" />\n",
    "    </include>\n",
    "</launch>"
   ]
  },
  {
   "source": [
    "When we run it, both programs will open, and when we plan some movement in MoveIt, it will be repeated on Gazebo. "
   ],
   "cell_type": "markdown",
   "metadata": {}
  },
  {
   "cell_type": "code",
   "execution_count": null,
   "metadata": {},
   "outputs": [],
   "source": [
    "roslaunch moveit_arm Final.launch"
   ]
  },
  {
   "source": [
    "## Generate URDF model file from SolidWorks\n",
    "Fortunately, due to a few talented ROS developers, there exists a convenient plugin in Solidworks to export our assembly in URDF format.\n",
    "\n",
    "Assuming you have your model completely set up as a SolidWorks assembly, we now use the SolidWorks to URDF Exporter: http://wiki.ros.org/sw_urdf_exporter\n",
    "\n",
    "Follow the tutorial to obtain the URDF file: https://blog.usejournal.com/control-any-robotic-arm-with-ros-b10a3115306c\n",
    "\n",
    "The built package will contain directories for meshes, textures and robots. It will also contain a ROS package.xml (manifest) file so you can use this as a ROS package by just copying it to your ROS system. The path locations in the URDF are relative to the package itself. Use proper ROS package names to avoid errors."
   ],
   "cell_type": "markdown",
   "metadata": {}
  },
  {
   "source": [
    "## Import the Robot arm model in ROS\n",
    "\n",
    "## Install robot_description package\n",
    "\n",
    "For this tutorial, make sure you have the Franka description package for Melodic:"
   ],
   "cell_type": "markdown",
   "metadata": {}
  },
  {
   "cell_type": "code",
   "execution_count": null,
   "metadata": {},
   "outputs": [],
   "source": [
    "sudo apt-get install ros-melodic-franka-description"
   ]
  },
  {
   "source": [
    "Copy the folder \"franka_description\" to src folder\n",
    "\n",
    "Compile again the workspace\n",
    "\n",
    "Verify the lasts lines in .bashrc file"
   ],
   "cell_type": "markdown",
   "metadata": {}
  },
  {
   "cell_type": "code",
   "execution_count": null,
   "metadata": {},
   "outputs": [],
   "source": [
    "source /opt/ros/melodic/setup.bash\n",
    "source /media/sf_github_manelpuig/arm_kinematics_ws/devel/setup.bash"
   ]
  },
  {
   "source": [
    "## Create a moveit_config package\n",
    "\n",
    "To start the MoveIt Setup Assistant:"
   ],
   "cell_type": "markdown",
   "metadata": {}
  },
  {
   "cell_type": "code",
   "execution_count": null,
   "metadata": {},
   "outputs": [],
   "source": [
    "roslaunch moveit_setup_assistant setup_assistant.launch"
   ]
  },
  {
   "source": [
    "Follow the \"Moveit Setup Assistant\" Tutorial to create the moveit_config package for the panda robot arm\n",
    "\n",
    "http://docs.ros.org/en/melodic/api/moveit_tutorials/html/doc/setup_assistant/setup_assistant_tutorial.html\n",
    "\n",
    "You have now the panda_moveit_config package properly installed\n",
    "\n",
    "Carefully:\n",
    "- add the links and joints \"Planning groups\"\n",
    "- add the urdf file generated in the robots folder\n",
    "You need some modifications to this package:\n",
    "- add the created urdf file in robots folder\n",
    "- change the gazebo.launch file"
   ],
   "cell_type": "markdown",
   "metadata": {}
  },
  {
   "source": [
    "## Robot arm Kinematics control \n",
    "The quickest way to get started using MoveIt is through its RViz plugin. Rviz is the primary visualizer in ROS and an incredibly useful tool for debugging robotics.\n",
    "\n",
    "http://docs.ros.org/en/melodic/api/moveit_tutorials/html/doc/quickstart_in_rviz/quickstart_in_rviz_tutorial.html"
   ],
   "cell_type": "markdown",
   "metadata": {}
  },
  {
   "cell_type": "code",
   "execution_count": null,
   "metadata": {},
   "outputs": [],
   "source": [
    "roslaunch panda_moveit_config demo.launch rviz_tutorial:=true"
   ]
  },
  {
   "source": [
    "Some important configuration parameters:\n",
    "- In Context Motion Planning Menu: Planning Library OMPL select RTTConnect\n",
    "- In Planning Request: Interactive marker size to 0,3\n",
    "- Select \"Allow External Communication to use a joystick"
   ],
   "cell_type": "markdown",
   "metadata": {}
  },
  {
   "source": [
    "<img src=\"./Images/1_panda_kine_rviz1.png\">"
   ],
   "cell_type": "markdown",
   "metadata": {}
  },
  {
   "cell_type": "code",
   "execution_count": null,
   "metadata": {},
   "outputs": [],
   "source": [
    "roslaunch gazebo_ros empty_world.launch paused:=true use_sim_time:=false gui:=true throttled:=false recording:=false debug:=true"
   ]
  },
  {
   "cell_type": "code",
   "execution_count": null,
   "metadata": {},
   "outputs": [],
   "source": [
    "rosrun gazebo_ros spawn_model -file /media/sf_github_manelpuig/arm_kinematics_ws/src/franka_description/robots/panda_arm.urdf -urdf -x 0 -y 0 -z 0 -model panda"
   ]
  },
  {
   "source": [
    "Change the gazebo.launch file considering:\n",
    "- urdf path to the urdf file and not the xacro file\n",
    "- the model has to be changed to panda (not robot as defauld)"
   ],
   "cell_type": "markdown",
   "metadata": {}
  }
 ]
}